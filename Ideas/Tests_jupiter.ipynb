{
 "cells": [
  {
   "cell_type": "code",
   "execution_count": 1,
   "metadata": {
    "dotnet_interactive": {
     "language": "csharp"
    },
    "vscode": {
     "languageId": "polyglot-notebook"
    }
   },
   "outputs": [
    {
     "name": "stdout",
     "output_type": "stream",
     "text": [
      "100\n",
      "200\n",
      "300\n",
      "400\n",
      "500\n",
      "600\n",
      "700\n",
      "800\n"
     ]
    }
   ],
   "source": [
    " List<int> list = new List<int>();\n",
    "      list.Add(100);\n",
    "      list.Add(200);\n",
    "      list.Add(300);\n",
    "      list.Add(400);\n",
    "\n",
    "      // array of 4 elements\n",
    "      int[] arr = new int[4];\n",
    "      arr[0] = 500;\n",
    "      arr[1] = 600;\n",
    "      arr[2] = 700;\n",
    "      arr[3] = 800;\n",
    "   \n",
    "      list.AddRange(arr);\n",
    "\n",
    "      foreach (int val in list) {\n",
    "         Console.WriteLine(val);\n",
    "      }\n"
   ]
  }
 ],
 "metadata": {
  "kernelspec": {
   "display_name": ".NET (C#)",
   "language": "C#",
   "name": ".net-csharp"
  },
  "language_info": {
   "file_extension": ".cs",
   "mimetype": "text/x-csharp",
   "name": "C#",
   "pygments_lexer": "csharp",
   "version": "9.0"
  },
  "vscode": {
   "interpreter": {
    "hash": "212c89d97c0f8034836ce6d73cce8ef438437688480daf227e3143efb000a8cf"
   }
  }
 },
 "nbformat": 4,
 "nbformat_minor": 2
}
